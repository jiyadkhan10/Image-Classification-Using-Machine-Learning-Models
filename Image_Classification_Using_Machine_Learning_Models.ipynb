{
 "cells": [
  {
   "cell_type": "code",
   "execution_count": 1,
   "metadata": {
    "id": "5tH1XZN-VugV"
   },
   "outputs": [
    {
     "ename": "ModuleNotFoundError",
     "evalue": "No module named 'tensorflow'",
     "output_type": "error",
     "traceback": [
      "\u001b[1;31m---------------------------------------------------------------------------\u001b[0m",
      "\u001b[1;31mModuleNotFoundError\u001b[0m                       Traceback (most recent call last)",
      "\u001b[1;32m<ipython-input-1-7b312b9c490e>\u001b[0m in \u001b[0;36m<module>\u001b[1;34m\u001b[0m\n\u001b[0;32m      2\u001b[0m \u001b[1;32mimport\u001b[0m \u001b[0mpandas\u001b[0m \u001b[1;32mas\u001b[0m \u001b[0mpd\u001b[0m\u001b[1;33m\u001b[0m\u001b[1;33m\u001b[0m\u001b[0m\n\u001b[0;32m      3\u001b[0m \u001b[1;32mimport\u001b[0m \u001b[0mmatplotlib\u001b[0m\u001b[1;33m.\u001b[0m\u001b[0mpyplot\u001b[0m \u001b[1;32mas\u001b[0m \u001b[0mplt\u001b[0m\u001b[1;33m\u001b[0m\u001b[1;33m\u001b[0m\u001b[0m\n\u001b[1;32m----> 4\u001b[1;33m \u001b[1;32mimport\u001b[0m \u001b[0mtensorflow\u001b[0m \u001b[1;32mas\u001b[0m \u001b[0mtf\u001b[0m\u001b[1;33m\u001b[0m\u001b[1;33m\u001b[0m\u001b[0m\n\u001b[0m\u001b[0;32m      5\u001b[0m \u001b[1;32mfrom\u001b[0m \u001b[0mtensorflow\u001b[0m\u001b[1;33m.\u001b[0m\u001b[0mkeras\u001b[0m \u001b[1;32mimport\u001b[0m \u001b[0mdatasets\u001b[0m\u001b[1;33m,\u001b[0m \u001b[0mlayers\u001b[0m\u001b[1;33m,\u001b[0m \u001b[0mmodels\u001b[0m\u001b[1;33m\u001b[0m\u001b[1;33m\u001b[0m\u001b[0m\n",
      "\u001b[1;31mModuleNotFoundError\u001b[0m: No module named 'tensorflow'"
     ]
    }
   ],
   "source": [
    "import numpy as np\n",
    "import pandas as pd\n",
    "import matplotlib.pyplot as plt\n",
    "import tensorflow as tf\n",
    "from tensorflow.keras import datasets, layers, models"
   ]
  },
  {
   "cell_type": "markdown",
   "metadata": {
    "id": "w9Ae1JGBV0Uf"
   },
   "source": [
    "Read The Data"
   ]
  },
  {
   "cell_type": "code",
   "execution_count": 3,
   "metadata": {
    "colab": {
     "base_uri": "https://localhost:8080/"
    },
    "id": "uB8QkcUYV57G",
    "outputId": "e71b2543-72d1-4112-a00f-ef6213c8d462"
   },
   "outputs": [
    {
     "name": "stdout",
     "output_type": "stream",
     "text": [
      "Downloading data from https://www.cs.toronto.edu/~kriz/cifar-10-python.tar.gz\n",
      "170500096/170498071 [==============================] - 2s 0us/step\n",
      "170508288/170498071 [==============================] - 2s 0us/step\n"
     ]
    }
   ],
   "source": [
    "data = datasets.cifar10.load_data()"
   ]
  },
  {
   "cell_type": "markdown",
   "metadata": {
    "id": "eJnmwyW0V910"
   },
   "source": [
    "Train The Data"
   ]
  },
  {
   "cell_type": "code",
   "execution_count": 4,
   "metadata": {
    "id": "rn2kMOMtV7uF"
   },
   "outputs": [],
   "source": [
    "(X_train, Y_train), (X_test, Y_test) = data"
   ]
  },
  {
   "cell_type": "code",
   "execution_count": 5,
   "metadata": {
    "colab": {
     "base_uri": "https://localhost:8080/"
    },
    "id": "OwGT4PZ0V_6s",
    "outputId": "4454e3f0-b580-4bf3-e9b3-6fddbd16d99a"
   },
   "outputs": [
    {
     "data": {
      "text/plain": [
       "((50000, 32, 32, 3), (50000, 1), (10000, 32, 32, 3), (10000, 1))"
      ]
     },
     "execution_count": 5,
     "metadata": {},
     "output_type": "execute_result"
    }
   ],
   "source": [
    "X_train.shape, Y_train.shape,X_test.shape, Y_test.shape"
   ]
  },
  {
   "cell_type": "code",
   "execution_count": 7,
   "metadata": {
    "id": "rlIseZozWB6-"
   },
   "outputs": [],
   "source": [
    "X_train = X_train.reshape(X_train.shape[0], -1)\n",
    "X_test = X_test.reshape(X_test.shape[0], -1)"
   ]
  },
  {
   "cell_type": "code",
   "execution_count": 9,
   "metadata": {
    "colab": {
     "base_uri": "https://localhost:8080/"
    },
    "id": "JHL99_zhWDru",
    "outputId": "9d809f52-ebe5-4de7-e1cf-b2ee96aa3029"
   },
   "outputs": [
    {
     "data": {
      "text/plain": [
       "((50000, 3072), (10000, 3072))"
      ]
     },
     "execution_count": 9,
     "metadata": {},
     "output_type": "execute_result"
    }
   ],
   "source": [
    "X_train.shape, X_test.shape"
   ]
  },
  {
   "cell_type": "markdown",
   "metadata": {
    "id": "CqLh7I_xZmZk"
   },
   "source": [
    "Selection For The Best Featues"
   ]
  },
  {
   "cell_type": "code",
   "execution_count": 19,
   "metadata": {
    "id": "4wdX2MPnaTmU"
   },
   "outputs": [],
   "source": [
    "from sklearn.decomposition import PCA"
   ]
  },
  {
   "cell_type": "code",
   "execution_count": 20,
   "metadata": {
    "colab": {
     "base_uri": "https://localhost:8080/"
    },
    "id": "pj86TrWvXbDw",
    "outputId": "1174f813-5790-42a7-cc01-1639e1ab6bab"
   },
   "outputs": [
    {
     "data": {
      "text/plain": [
       "array([[-1.63225950e+03,  6.95904885e+02,  3.82936183e+02, ...,\n",
       "        -1.94383396e-01, -2.96716275e-01, -8.91909421e-02],\n",
       "       [ 2.11594763e+02, -2.42235521e+02,  1.53095691e+03, ...,\n",
       "         2.76508201e-02,  1.47062424e-01, -1.96606511e-01],\n",
       "       [ 1.97120094e+03, -2.93813609e+03, -7.02173229e+02, ...,\n",
       "        -2.66373278e-01, -5.45969636e-02, -1.00334729e-01],\n",
       "       ...,\n",
       "       [ 1.80373380e+02, -2.89234292e+03, -1.00448294e+02, ...,\n",
       "        -9.69870999e-02,  4.75402487e-01,  3.69202335e-01],\n",
       "       [ 2.89881680e+03, -8.60874301e+02,  1.41938040e+03, ...,\n",
       "        -1.19109692e-01,  1.89968105e-01, -4.26015893e-01],\n",
       "       [ 1.06916310e+03, -3.01968063e+02, -1.13372056e+03, ...,\n",
       "         2.46831906e-01,  6.12928127e-02, -7.15290870e-03]])"
      ]
     },
     "execution_count": 20,
     "metadata": {},
     "output_type": "execute_result"
    }
   ],
   "source": [
    "pca_machine_learning = PCA()\n",
    "pca_machine_learning.fit_transform(X_train)"
   ]
  },
  {
   "cell_type": "code",
   "execution_count": 21,
   "metadata": {
    "colab": {
     "base_uri": "https://localhost:8080/"
    },
    "id": "YARb48GAaje6",
    "outputId": "e1297e8b-5b4e-4163-ebeb-ee9b391dcb55"
   },
   "outputs": [
    {
     "data": {
      "text/plain": [
       "(3072,)"
      ]
     },
     "execution_count": 21,
     "metadata": {},
     "output_type": "execute_result"
    }
   ],
   "source": [
    "pca_machine_learning.explained_variance_.shape"
   ]
  },
  {
   "cell_type": "code",
   "execution_count": 22,
   "metadata": {
    "colab": {
     "base_uri": "https://localhost:8080/"
    },
    "id": "Ucv-3ypEb6yp",
    "outputId": "641065e8-9518-48cb-84bc-ba7969e27819"
   },
   "outputs": [
    {
     "data": {
      "text/plain": [
       "444"
      ]
     },
     "execution_count": 22,
     "metadata": {},
     "output_type": "execute_result"
    }
   ],
   "source": [
    "i = 0\n",
    "TOTAL_SUM = sum(pca_machine_learning.explained_variance_)\n",
    "SUM = 0\n",
    "\n",
    "while(SUM / TOTAL_SUM < 0.98):\n",
    "    SUM += pca_machine_learning.explained_variance_[i]\n",
    "    i = i + 1\n",
    "i"
   ]
  },
  {
   "cell_type": "markdown",
   "metadata": {
    "id": "OPsQ1Gt6dfF0"
   },
   "source": [
    "Applying PCA With i Which Is Calcuated Above"
   ]
  },
  {
   "cell_type": "code",
   "execution_count": 23,
   "metadata": {
    "id": "BWCSXDegdXnA"
   },
   "outputs": [],
   "source": [
    "pca_machine_learning = PCA(n_components = i, whiten = True, svd_solver = 'randomized')\n",
    "\n",
    "X_train = pca_machine_learning.fit_transform(X_train)\n",
    "X_test = pca_machine_learning.transform(X_test)"
   ]
  },
  {
   "cell_type": "markdown",
   "metadata": {
    "id": "0qVFBqQYgGvJ"
   },
   "source": [
    "Logistic Regression Model"
   ]
  },
  {
   "cell_type": "code",
   "execution_count": 24,
   "metadata": {
    "id": "bJVh2kxkeuGO"
   },
   "outputs": [],
   "source": [
    "from sklearn.linear_model import LogisticRegression"
   ]
  },
  {
   "cell_type": "code",
   "execution_count": 25,
   "metadata": {
    "colab": {
     "base_uri": "https://localhost:8080/"
    },
    "id": "DPlVuWB-gNmr",
    "outputId": "dfa4c39d-c058-43bb-fa2c-58ccf3a953dd"
   },
   "outputs": [
    {
     "name": "stderr",
     "output_type": "stream",
     "text": [
      "/usr/local/lib/python3.7/dist-packages/sklearn/utils/validation.py:993: DataConversionWarning: A column-vector y was passed when a 1d array was expected. Please change the shape of y to (n_samples, ), for example using ravel().\n",
      "  y = column_or_1d(y, warn=True)\n"
     ]
    },
    {
     "data": {
      "text/plain": [
       "LogisticRegression()"
      ]
     },
     "execution_count": 25,
     "metadata": {},
     "output_type": "execute_result"
    }
   ],
   "source": [
    "logistic_regression = LogisticRegression()\n",
    "logistic_regression.fit(X_train, Y_train)"
   ]
  },
  {
   "cell_type": "code",
   "execution_count": 26,
   "metadata": {
    "id": "J3E7cFSqgh9y"
   },
   "outputs": [],
   "source": [
    "Y_pred = logistic_regression.predict(X_test)"
   ]
  },
  {
   "cell_type": "code",
   "execution_count": 27,
   "metadata": {
    "id": "j3QjZkoTgrax"
   },
   "outputs": [],
   "source": [
    "from sklearn.metrics import accuracy_score"
   ]
  },
  {
   "cell_type": "code",
   "execution_count": 33,
   "metadata": {
    "colab": {
     "base_uri": "https://localhost:8080/"
    },
    "id": "zfLw-_gcg35Y",
    "outputId": "1a374a0c-413d-4ea0-c4c6-8b6a79ae96b5"
   },
   "outputs": [
    {
     "name": "stdout",
     "output_type": "stream",
     "text": [
      "Accuracy of Logistic Regression Model: 40.86\n"
     ]
    }
   ],
   "source": [
    "Accuracy_of_Logistic_Regression = accuracy_score(Y_test, Y_pred) * 100\n",
    "print (\"Accuracy of Logistic Regression Model:\", Accuracy_of_Logistic_Regression)"
   ]
  },
  {
   "cell_type": "code",
   "execution_count": 30,
   "metadata": {
    "id": "FJbBbP-Xh0ae"
   },
   "outputs": [],
   "source": [
    "from sklearn.metrics import recall_score"
   ]
  },
  {
   "cell_type": "code",
   "execution_count": 34,
   "metadata": {
    "colab": {
     "base_uri": "https://localhost:8080/"
    },
    "id": "4CBaRVgUiMoT",
    "outputId": "fd42706d-8d67-427c-e090-af0e8d8cdfce"
   },
   "outputs": [
    {
     "name": "stdout",
     "output_type": "stream",
     "text": [
      "Recall Score of Logistic Regression Model: 40.86\n"
     ]
    }
   ],
   "source": [
    "Recall_Score_of_Logistic_Regression = recall_score(Y_test, Y_pred, average='macro') * 100\n",
    "print (\"Recall Score of Logistic Regression Model:\", Recall_Score_of_Logistic_Regression)"
   ]
  },
  {
   "cell_type": "code",
   "execution_count": 32,
   "metadata": {
    "id": "7kOJ3h5piVPe"
   },
   "outputs": [],
   "source": [
    "from sklearn.metrics import precision_score"
   ]
  },
  {
   "cell_type": "code",
   "execution_count": 35,
   "metadata": {
    "colab": {
     "base_uri": "https://localhost:8080/"
    },
    "id": "_Yl-RdfjiZkb",
    "outputId": "467f68c1-b36a-42e1-868b-ea2b58b185e3"
   },
   "outputs": [
    {
     "name": "stdout",
     "output_type": "stream",
     "text": [
      "Precision Score of Logistic Regression Model: 40.44070119956945\n"
     ]
    }
   ],
   "source": [
    "Precision_Score_of_Logistic_Regression = precision_score(Y_test, Y_pred, average = 'macro') * 100\n",
    "print (\"Precision Score of Logistic Regression Model:\", Precision_Score_of_Logistic_Regression)"
   ]
  },
  {
   "cell_type": "code",
   "execution_count": 36,
   "metadata": {
    "id": "3-jFw9rAipF4"
   },
   "outputs": [],
   "source": [
    "from sklearn.metrics import f1_score"
   ]
  },
  {
   "cell_type": "code",
   "execution_count": 37,
   "metadata": {
    "colab": {
     "base_uri": "https://localhost:8080/"
    },
    "id": "xb_PP7QLitro",
    "outputId": "fb8d2ca2-87c5-48f4-c860-b92c3ce92336"
   },
   "outputs": [
    {
     "name": "stdout",
     "output_type": "stream",
     "text": [
      "F1 Score of Logistic Regression Model: 40.556657774209434\n"
     ]
    }
   ],
   "source": [
    "F1_Score_of_Logistic_Regression = f1_score(Y_test, Y_pred, average='macro') * 100\n",
    "print (\"F1 Score of Logistic Regression Model:\", F1_Score_of_Logistic_Regression)"
   ]
  },
  {
   "cell_type": "markdown",
   "metadata": {
    "id": "Xtl3JHgijTWK"
   },
   "source": [
    "KNN Model"
   ]
  },
  {
   "cell_type": "code",
   "execution_count": 47,
   "metadata": {
    "id": "RwISMOUNi0-K"
   },
   "outputs": [],
   "source": [
    "from sklearn.neighbors import KNeighborsClassifier"
   ]
  },
  {
   "cell_type": "code",
   "execution_count": 50,
   "metadata": {
    "colab": {
     "base_uri": "https://localhost:8080/"
    },
    "id": "gcqrA9vVjWr-",
    "outputId": "6d0da977-6b55-40f2-d43e-46fab03e83bf"
   },
   "outputs": [
    {
     "name": "stderr",
     "output_type": "stream",
     "text": [
      "/usr/local/lib/python3.7/dist-packages/sklearn/neighbors/_classification.py:198: DataConversionWarning: A column-vector y was passed when a 1d array was expected. Please change the shape of y to (n_samples,), for example using ravel().\n",
      "  return self._fit(X, y)\n"
     ]
    },
    {
     "data": {
      "text/plain": [
       "KNeighborsClassifier()"
      ]
     },
     "execution_count": 50,
     "metadata": {},
     "output_type": "execute_result"
    }
   ],
   "source": [
    "KNN = KNeighborsClassifier(n_neighbors = 5)\n",
    "KNN.fit(X_train, Y_train)"
   ]
  },
  {
   "cell_type": "code",
   "execution_count": 51,
   "metadata": {
    "id": "POtXGPtdmo9d"
   },
   "outputs": [],
   "source": [
    "Y_pred = KNN.predict(X_test)"
   ]
  },
  {
   "cell_type": "code",
   "execution_count": 52,
   "metadata": {
    "id": "eYXtau4vjquQ"
   },
   "outputs": [],
   "source": [
    "from sklearn.metrics import accuracy_score"
   ]
  },
  {
   "cell_type": "code",
   "execution_count": 53,
   "metadata": {
    "colab": {
     "base_uri": "https://localhost:8080/"
    },
    "id": "t1UfcPAmj4iO",
    "outputId": "88b46880-0118-4591-be2a-3d5400a873b2"
   },
   "outputs": [
    {
     "name": "stdout",
     "output_type": "stream",
     "text": [
      "Accuracy of KNN Model: 17.37\n"
     ]
    }
   ],
   "source": [
    "Accuracy_of_KNN = (accuracy_score(Y_pred, Y_test)) * 100\n",
    "print (\"Accuracy of KNN Model:\", Accuracy_of_KNN)"
   ]
  },
  {
   "cell_type": "code",
   "execution_count": 54,
   "metadata": {
    "id": "W1r6c3VrkBQw"
   },
   "outputs": [],
   "source": [
    "from sklearn.metrics import recall_score"
   ]
  },
  {
   "cell_type": "code",
   "execution_count": 55,
   "metadata": {
    "colab": {
     "base_uri": "https://localhost:8080/"
    },
    "id": "eGNdjqgVkBXe",
    "outputId": "6ffc2ce4-ce48-47ca-e453-c1f900fbfa92"
   },
   "outputs": [
    {
     "name": "stdout",
     "output_type": "stream",
     "text": [
      "Recall Score of KNN Model: 17.37\n"
     ]
    }
   ],
   "source": [
    "Recall_Score_of_KNN = recall_score(Y_test, Y_pred, average='macro')*100\n",
    "print (\"Recall Score of KNN Model:\", Recall_Score_of_KNN)"
   ]
  },
  {
   "cell_type": "code",
   "execution_count": 56,
   "metadata": {
    "id": "MQgwYP-fkBw1"
   },
   "outputs": [],
   "source": [
    "from sklearn.metrics import precision_score"
   ]
  },
  {
   "cell_type": "code",
   "execution_count": 57,
   "metadata": {
    "colab": {
     "base_uri": "https://localhost:8080/"
    },
    "id": "syQ4xIyqkB16",
    "outputId": "2f35808a-52b3-42fc-c780-66488b49c9f4"
   },
   "outputs": [
    {
     "name": "stdout",
     "output_type": "stream",
     "text": [
      "Precision Score of KNN Model: 46.00300725433149\n"
     ]
    }
   ],
   "source": [
    "Precision_Score_of_KNN = precision_score(Y_test, Y_pred, average = 'macro') * 100\n",
    "print (\"Precision Score of KNN Model:\", Precision_Score_of_KNN)"
   ]
  },
  {
   "cell_type": "code",
   "execution_count": 58,
   "metadata": {
    "id": "IhA4gjz-kCFh"
   },
   "outputs": [],
   "source": [
    "from sklearn.metrics import f1_score"
   ]
  },
  {
   "cell_type": "code",
   "execution_count": 59,
   "metadata": {
    "colab": {
     "base_uri": "https://localhost:8080/"
    },
    "id": "HJ8bDa0OkCvJ",
    "outputId": "0d0d9891-d026-4a4e-9fd7-93d60fa391dc"
   },
   "outputs": [
    {
     "name": "stdout",
     "output_type": "stream",
     "text": [
      "F1 Score of KNN Model: 10.586914431529415\n"
     ]
    }
   ],
   "source": [
    "F1_Score_of_KNN = f1_score(Y_test, Y_pred, average='macro') * 100\n",
    "print (\"F1 Score of KNN Model:\", F1_Score_of_KNN)"
   ]
  },
  {
   "cell_type": "markdown",
   "metadata": {
    "id": "2i_KxAXfnpIV"
   },
   "source": [
    "# Random Forest Model"
   ]
  },
  {
   "cell_type": "code",
   "execution_count": 60,
   "metadata": {
    "id": "_PbYO7O1kC2X"
   },
   "outputs": [],
   "source": [
    "from sklearn.ensemble import RandomForestClassifier"
   ]
  },
  {
   "cell_type": "code",
   "execution_count": 61,
   "metadata": {
    "colab": {
     "base_uri": "https://localhost:8080/"
    },
    "id": "XaFXAQsKnuEk",
    "outputId": "fc38c11c-7113-45af-d03a-27ef8c80b11e"
   },
   "outputs": [
    {
     "name": "stderr",
     "output_type": "stream",
     "text": [
      "/usr/local/lib/python3.7/dist-packages/ipykernel_launcher.py:2: DataConversionWarning: A column-vector y was passed when a 1d array was expected. Please change the shape of y to (n_samples,), for example using ravel().\n",
      "  \n"
     ]
    },
    {
     "data": {
      "text/plain": [
       "RandomForestClassifier()"
      ]
     },
     "execution_count": 61,
     "metadata": {},
     "output_type": "execute_result"
    }
   ],
   "source": [
    "Random_Forest_Classifier = RandomForestClassifier()\n",
    "Random_Forest_Classifier.fit(X_train, Y_train)"
   ]
  },
  {
   "cell_type": "code",
   "execution_count": 62,
   "metadata": {
    "id": "T5x2BMD1n5bE"
   },
   "outputs": [],
   "source": [
    "Y_pred = Random_Forest_Classifier.predict(X_test)"
   ]
  },
  {
   "cell_type": "code",
   "execution_count": 63,
   "metadata": {
    "id": "KqxdDznCoIxq"
   },
   "outputs": [],
   "source": [
    "from sklearn.metrics import accuracy_score"
   ]
  },
  {
   "cell_type": "code",
   "execution_count": 67,
   "metadata": {
    "colab": {
     "base_uri": "https://localhost:8080/"
    },
    "id": "o4oJmpIFoNe9",
    "outputId": "6ebaab16-39ad-4e99-9fae-ccdcda9d935c"
   },
   "outputs": [
    {
     "name": "stdout",
     "output_type": "stream",
     "text": [
      "Accuracy of Random Forest Classifier Model: 40.510000000000005\n"
     ]
    }
   ],
   "source": [
    "Accuracy_of_Random_Forest_Classifier = accuracy_score(Y_test, Y_pred) * 100\n",
    "print (\"Accuracy of Random Forest Classifier Model:\", Accuracy_of_Random_Forest_Classifier)"
   ]
  },
  {
   "cell_type": "code",
   "execution_count": 68,
   "metadata": {
    "id": "1fmFd0YGosMA"
   },
   "outputs": [],
   "source": [
    "from sklearn.metrics import recall_score"
   ]
  },
  {
   "cell_type": "code",
   "execution_count": 69,
   "metadata": {
    "colab": {
     "base_uri": "https://localhost:8080/"
    },
    "id": "t5_iqcogpMbI",
    "outputId": "797c2261-1391-479a-ebe1-3b297b4c31bf"
   },
   "outputs": [
    {
     "name": "stdout",
     "output_type": "stream",
     "text": [
      "Recall Score of Random Forest Classifier Model: 40.510000000000005\n"
     ]
    }
   ],
   "source": [
    "Recall_Score_of_Random_Forest_Classifier = recall_score(Y_test, Y_pred, average='macro') * 100\n",
    "print (\"Recall Score of Random Forest Classifier Model:\", Recall_Score_of_Random_Forest_Classifier)"
   ]
  },
  {
   "cell_type": "code",
   "execution_count": 70,
   "metadata": {
    "id": "Paozm7pYpTie"
   },
   "outputs": [],
   "source": [
    "from sklearn.metrics import precision_score"
   ]
  },
  {
   "cell_type": "code",
   "execution_count": 74,
   "metadata": {
    "colab": {
     "base_uri": "https://localhost:8080/"
    },
    "id": "Ri7_hlg5peSe",
    "outputId": "a0c80a7b-2656-42f6-d2a7-10b09eebfc84"
   },
   "outputs": [
    {
     "name": "stdout",
     "output_type": "stream",
     "text": [
      "Precision Score of Random Forest Classifier Model: 40.08396979039524\n"
     ]
    }
   ],
   "source": [
    "Precision_Score_of_Random_Forest_Classifier = precision_score(Y_test, Y_pred, average = 'macro') * 100\n",
    "print (\"Precision Score of Random Forest Classifier Model:\", Precision_Score_of_Random_Forest_Classifier)"
   ]
  },
  {
   "cell_type": "code",
   "execution_count": 72,
   "metadata": {
    "id": "LFrAshUepum5"
   },
   "outputs": [],
   "source": [
    "from sklearn.metrics import f1_score"
   ]
  },
  {
   "cell_type": "code",
   "execution_count": 75,
   "metadata": {
    "colab": {
     "base_uri": "https://localhost:8080/"
    },
    "id": "VSovI_-SpyyF",
    "outputId": "f33a6143-fceb-46f8-c061-bb7273e09e3c"
   },
   "outputs": [
    {
     "name": "stdout",
     "output_type": "stream",
     "text": [
      "F1 Score of Random Forest Classifier Model: 40.160462713221975\n"
     ]
    }
   ],
   "source": [
    "F1_Score_of_Random_Forest_Classifier = f1_score(Y_test, Y_pred, average='macro') * 100\n",
    "print (\"F1 Score of Random Forest Classifier Model:\", F1_Score_of_Random_Forest_Classifier)"
   ]
  },
  {
   "cell_type": "markdown",
   "metadata": {
    "id": "QqgnZdJLp9V3"
   },
   "source": [
    "Comparsion Between Logistic Regression, KNN And Random Forest Classifier Model"
   ]
  },
  {
   "cell_type": "code",
   "execution_count": 76,
   "metadata": {
    "colab": {
     "base_uri": "https://localhost:8080/"
    },
    "id": "jiyUFmFMp73l",
    "outputId": "2ec1bf37-8e1a-4f3e-ffd3-a679ef2d2c3f"
   },
   "outputs": [
    {
     "name": "stdout",
     "output_type": "stream",
     "text": [
      "Accuray of Logistic Regression Model:  40.86\n",
      "Accuray of KNN Model:  17.37\n",
      "Accuray of Random Forest Classifier Model:  40.510000000000005\n"
     ]
    }
   ],
   "source": [
    "print(\"Accuray of Logistic Regression Model: \", Accuracy_of_Logistic_Regression)\n",
    "print(\"Accuray of KNN Model: \", Accuracy_of_KNN)\n",
    "print(\"Accuray of Random Forest Classifier Model: \", Accuracy_of_Random_Forest_Classifier)"
   ]
  },
  {
   "cell_type": "code",
   "execution_count": 77,
   "metadata": {
    "colab": {
     "base_uri": "https://localhost:8080/"
    },
    "id": "kzJJpae8quQE",
    "outputId": "2b5d0d77-6bd2-463a-9b19-fcb05e04b3c2"
   },
   "outputs": [
    {
     "data": {
      "text/plain": [
       "[40.86, 17.37, 40.510000000000005]"
      ]
     },
     "execution_count": 77,
     "metadata": {},
     "output_type": "execute_result"
    }
   ],
   "source": [
    "x = ['Logistic Regression','KNN','Random Forest Classifier']\n",
    "y = [Accuracy_of_Logistic_Regression, Accuracy_of_KNN, Accuracy_of_Random_Forest_Classifier]\n",
    "y"
   ]
  },
  {
   "cell_type": "code",
   "execution_count": 80,
   "metadata": {
    "colab": {
     "base_uri": "https://localhost:8080/",
     "height": 513
    },
    "id": "1N_qf4RTq-77",
    "outputId": "0b0b3973-1ffe-4db5-a7e5-465c3f885ddc"
   },
   "outputs": [
    {
     "data": {
      "image/png": "[encoded data removed]",
      "text/plain": [
       "<Figure size 576x576 with 1 Axes>"
      ]
     },
     "metadata": {
      "needs_background": "light"
     },
     "output_type": "display_data"
    }
   ],
   "source": [
    "plt.figure(figsize = (8,8))\n",
    "plt.bar(x,y, color = ['red', 'yellow', 'skyblue'])\n",
    "plt.xlabel('Models')\n",
    "plt.ylabel(\"Accuracy\")\n",
    "plt.title(\"Accuracy of Logistic Regression, KNN and Random Forest Classifier Model\")\n",
    "plt.show()"
   ]
  },
  {
   "cell_type": "code",
   "execution_count": 83,
   "metadata": {
    "colab": {
     "base_uri": "https://localhost:8080/"
    },
    "id": "kRhSSfGsrGSy",
    "outputId": "1014204f-33be-4c1c-fe2a-829976809858"
   },
   "outputs": [
    {
     "name": "stdout",
     "output_type": "stream",
     "text": [
      "Recall Score of Logistic Regression Model:  40.86\n",
      "Recall Score of KNN Model:  17.37\n",
      "Recall Score of Random Forest Classifier Model: 40.510000000000005\n"
     ]
    }
   ],
   "source": [
    "print(\"Recall Score of Logistic Regression Model: \", Recall_Score_of_Logistic_Regression)\n",
    "print(\"Recall Score of KNN Model: \", Recall_Score_of_KNN)\n",
    "print(\"Recall Score of Random Forest Classifier Model:\", Recall_Score_of_Random_Forest_Classifier)\n"
   ]
  },
  {
   "cell_type": "code",
   "execution_count": 84,
   "metadata": {
    "colab": {
     "base_uri": "https://localhost:8080/"
    },
    "id": "IORE6hBRrZMJ",
    "outputId": "1f2584b5-8f25-44c1-af7d-ae06c9d00802"
   },
   "outputs": [
    {
     "data": {
      "text/plain": [
       "[40.86, 17.37, 40.510000000000005]"
      ]
     },
     "execution_count": 84,
     "metadata": {},
     "output_type": "execute_result"
    }
   ],
   "source": [
    "x = ['Logistic Regression','KNN','Random Forest Classifier']\n",
    "y = [Recall_Score_of_Logistic_Regression, Recall_Score_of_KNN, Recall_Score_of_Random_Forest_Classifier]\n",
    "y"
   ]
  },
  {
   "cell_type": "code",
   "execution_count": 85,
   "metadata": {
    "colab": {
     "base_uri": "https://localhost:8080/",
     "height": 513
    },
    "id": "o8EsbOg4sWFj",
    "outputId": "becdafa2-47c6-4e4b-9b0e-cc496944678c"
   },
   "outputs": [
    {
     "data": {
      "image/png": "[encoded data removed]",
      "text/plain": [
       "<Figure size 576x576 with 1 Axes>"
      ]
     },
     "metadata": {
      "needs_background": "light"
     },
     "output_type": "display_data"
    }
   ],
   "source": [
    "plt.figure(figsize = (8,8))\n",
    "plt.bar(x,y, color = ['black', 'blue', 'orange'])\n",
    "plt.xlabel('Models')\n",
    "plt.ylabel(\"Recall Score\")\n",
    "plt.title(\"Recall Score of Logistic Regression, KNN and Random Forest Classifier Model\")\n",
    "plt.show()"
   ]
  },
  {
   "cell_type": "code",
   "execution_count": 86,
   "metadata": {
    "colab": {
     "base_uri": "https://localhost:8080/"
    },
    "id": "7dm_UtQMsrs4",
    "outputId": "d37fddba-46b6-4c09-e0bc-48cc9821d0a5"
   },
   "outputs": [
    {
     "name": "stdout",
     "output_type": "stream",
     "text": [
      "Precision Score of Logistic Regression Model:  40.44070119956945\n",
      "Precision Score of KNN Model:  46.00300725433149\n",
      "Precision Score of Random Forest Classifier Model: 40.08396979039524\n"
     ]
    }
   ],
   "source": [
    "print(\"Precision Score of Logistic Regression Model: \", Precision_Score_of_Logistic_Regression)\n",
    "print(\"Precision Score of KNN Model: \", Precision_Score_of_KNN)\n",
    "print (\"Precision Score of Random Forest Classifier Model:\", Precision_Score_of_Random_Forest_Classifier)"
   ]
  },
  {
   "cell_type": "code",
   "execution_count": 87,
   "metadata": {
    "colab": {
     "base_uri": "https://localhost:8080/"
    },
    "id": "M3eAQfv4tMCd",
    "outputId": "cb131558-273d-4780-e405-cad0b98e0e4e"
   },
   "outputs": [
    {
     "data": {
      "text/plain": [
       "[40.44070119956945, 46.00300725433149, 40.08396979039524]"
      ]
     },
     "execution_count": 87,
     "metadata": {},
     "output_type": "execute_result"
    }
   ],
   "source": [
    "x = ['Logistic Regression','KNN','Random Forest Classifier']\n",
    "y = [Precision_Score_of_Logistic_Regression, Precision_Score_of_KNN, Precision_Score_of_Random_Forest_Classifier]\n",
    "y"
   ]
  },
  {
   "cell_type": "code",
   "execution_count": 88,
   "metadata": {
    "colab": {
     "base_uri": "https://localhost:8080/",
     "height": 513
    },
    "id": "OlXpMGzEtUM3",
    "outputId": "3acf7ac7-0f3b-421b-bbb8-456e2bcc40bd"
   },
   "outputs": [
    {
     "data": {
      "image/png": "[encoded data removed]",
      "text/plain": [
       "<Figure size 576x576 with 1 Axes>"
      ]
     },
     "metadata": {
      "needs_background": "light"
     },
     "output_type": "display_data"
    }
   ],
   "source": [
    "plt.figure(figsize = (8,8))\n",
    "plt.bar(x,y, color = ['green', 'grey', 'yellow'])\n",
    "plt.xlabel('Models')\n",
    "plt.ylabel(\"Precision Score\")\n",
    "plt.title(\"Precision Score of Logistic Regression, KNN and Random Forest Classifier Model\")\n",
    "plt.show()"
   ]
  },
  {
   "cell_type": "code",
   "execution_count": 89,
   "metadata": {
    "colab": {
     "base_uri": "https://localhost:8080/"
    },
    "id": "ViN7-rJpteeN",
    "outputId": "b5f3a882-cd4e-41b9-dc51-d5b2b6ead333"
   },
   "outputs": [
    {
     "name": "stdout",
     "output_type": "stream",
     "text": [
      "F1 Score of Logistic Regression Model:  40.556657774209434\n",
      "F1 Score of KNN Model:  10.586914431529415\n",
      "F1 Score of Random Forest Classifier Model: 40.160462713221975\n"
     ]
    }
   ],
   "source": [
    "print(\"F1 Score of Logistic Regression Model: \", F1_Score_of_Logistic_Regression)\n",
    "print(\"F1 Score of KNN Model: \", F1_Score_of_KNN)\n",
    "print (\"F1 Score of Random Forest Classifier Model:\", F1_Score_of_Random_Forest_Classifier)"
   ]
  },
  {
   "cell_type": "code",
   "execution_count": 90,
   "metadata": {
    "colab": {
     "base_uri": "https://localhost:8080/"
    },
    "id": "o2pHnOgvtr9g",
    "outputId": "f256270c-4be1-495c-985b-485321482a2c"
   },
   "outputs": [
    {
     "data": {
      "text/plain": [
       "[40.556657774209434, 10.586914431529415, 40.160462713221975]"
      ]
     },
     "execution_count": 90,
     "metadata": {},
     "output_type": "execute_result"
    }
   ],
   "source": [
    "x = ['Logistic Regression','KNN','Random Forest Classifier']\n",
    "y = [F1_Score_of_Logistic_Regression, F1_Score_of_KNN, F1_Score_of_Random_Forest_Classifier]\n",
    "y"
   ]
  },
  {
   "cell_type": "code",
   "execution_count": 91,
   "metadata": {
    "colab": {
     "base_uri": "https://localhost:8080/",
     "height": 513
    },
    "id": "9eBV6ABUtzqC",
    "outputId": "f1d9c9e9-8946-4d83-b467-d61c3e25d3ea"
   },
   "outputs": [
    {
     "data": {
      "image/png": "[encoded data removed]",
      "text/plain": [
       "<Figure size 576x576 with 1 Axes>"
      ]
     },
     "metadata": {
      "needs_background": "light"
     },
     "output_type": "display_data"
    }
   ],
   "source": [
    "plt.figure(figsize = (8,8))\n",
    "plt.bar(x,y, color = ['purple', 'brown', 'skyblue'])\n",
    "plt.xlabel('Models')\n",
    "plt.ylabel(\"F1 Score\")\n",
    "plt.title(\"F1 Score of Logistic Regression, KNN and Random Forest Classifier Model\")\n",
    "plt.show()"
   ]
  },
  {
   "cell_type": "code",
   "execution_count": null,
   "metadata": {
    "id": "9uhJJQq6uIpJ"
   },
   "outputs": [],
   "source": []
  }
 ],
 "metadata": {
  "colab": {
   "name": "i191771.ipynb",
   "provenance": []
  },
  "kernelspec": {
   "display_name": "Python 3",
   "language": "python",
   "name": "python3"
  },
  "language_info": {
   "codemirror_mode": {
    "name": "ipython",
    "version": 3
   },
   "file_extension": ".py",
   "mimetype": "text/x-python",
   "name": "python",
   "nbconvert_exporter": "python",
   "pygments_lexer": "ipython3",
   "version": "3.8.8"
  }
 },
 "nbformat": 4,
 "nbformat_minor": 1
}
